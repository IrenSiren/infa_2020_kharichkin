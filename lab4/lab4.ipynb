{
 "cells": [
  {
   "cell_type": "markdown",
   "metadata": {},
   "source": [
    "# lab4. Картинки на выставку (часть 1)(http://cs.mipt.ru/python/lessons/lab4.html)"
   ]
  },
  {
   "cell_type": "markdown",
   "metadata": {},
   "source": [
    "## Упражнение 1. Git. Сделано."
   ]
  },
  {
   "cell_type": "markdown",
   "metadata": {},
   "source": [
    "## Упражнение 2. Создание картинок с библиотекой pygame.draw"
   ]
  },
  {
   "cell_type": "code",
   "execution_count": 1,
   "metadata": {},
   "outputs": [
    {
     "name": "stdout",
     "output_type": "stream",
     "text": [
      "pygame 1.9.6\n",
      "Hello from the pygame community. https://www.pygame.org/contribute.html\n"
     ]
    }
   ],
   "source": [
    "import pygame\n",
    "from pygame.draw import *\n",
    "import numpy as np\n",
    "\n",
    "pygame.init()\n",
    "\n",
    "FPS = 30\n",
    "\n",
    "clock = pygame.time.Clock()"
   ]
  },
  {
   "cell_type": "markdown",
   "metadata": {},
   "source": [
    "### Пример №1"
   ]
  },
  {
   "cell_type": "code",
   "execution_count": 23,
   "metadata": {},
   "outputs": [
    {
     "data": {
      "text/plain": [
       "<rect(150, 125, 100, 100)>"
      ]
     },
     "execution_count": 23,
     "metadata": {},
     "output_type": "execute_result"
    }
   ],
   "source": [
    "screen = pygame.display.set_mode((400, 400))\n",
    "\n",
    "rect(screen, (255, 0, 255), (100, 100, 200, 200))\n",
    "rect(screen, (0, 0, 255), (100, 100, 200, 200), 5)\n",
    "polygon(screen, (255, 255, 0), [(100,100), (200,50),\n",
    "                               (300,100), (100,100)])\n",
    "polygon(screen, (0, 0, 255), [(100,100), (200,50),\n",
    "                               (300,100), (100,100)], 5)\n",
    "circle(screen, (0, 255, 0), (200, 175), 50)\n",
    "circle(screen, (255, 255, 255), (200, 175), 50, 5)"
   ]
  },
  {
   "cell_type": "markdown",
   "metadata": {},
   "source": [
    "### Пример №2"
   ]
  },
  {
   "cell_type": "code",
   "execution_count": 13,
   "metadata": {},
   "outputs": [],
   "source": [
    "screen = pygame.display.set_mode((400, 400))\n",
    "\n",
    "x1 = 100; y1 = 100\n",
    "x2 = 300; y2 = 200\n",
    "N = 10\n",
    "color = (255, 255, 255)\n",
    "rect(screen, color, (x1, y1, x2 - x1, y2 - y1), 2)\n",
    "h = (x2 - x1) // (N + 1)\n",
    "x = x1 + h\n",
    "for i in range(N):\n",
    "    line(screen, color, (x, y1), (x, y2))\n",
    "    x += h"
   ]
  },
  {
   "cell_type": "markdown",
   "metadata": {},
   "source": [
    "### Задание №1 (злой смайлик)"
   ]
  },
  {
   "cell_type": "code",
   "execution_count": 8,
   "metadata": {},
   "outputs": [],
   "source": [
    "#names of the colors\n",
    "black = (0, 0, 0)\n",
    "yellow = (255, 255, 0)\n",
    "red = (255, 0, 0)\n",
    "grey = (200, 200, 200)\n",
    "\n",
    "#sizes\n",
    "SCREEN_WIDTH = 400\n",
    "SCREEN_HEIGHT = 400\n",
    "SMILE_RADIUS = 100\n",
    "LEFT_EYE_RADIUS = 20\n",
    "RIGHT_EYE_RADIUS = 15\n",
    "PUPIL_RADIUS = 7\n",
    "EYEBROW_LENGTH = 100\n",
    "EYEBROW_WIDTH = 10\n",
    "MOUTH_LENGTH = 100\n",
    "MOUTH_WIDTH = 20\n",
    "\n",
    "#colors of the parts\n",
    "SCREEN_COLOR = grey\n",
    "SMILE_COLOR = yellow\n",
    "EYEBROW_COLOR = black\n",
    "MOUTH_COLOR = black\n",
    "PUPIL_COLOR = black\n",
    "EYE_COLOR = red\n",
    "\n",
    "#position of the parts\n",
    "SMILE_POSITION = 200, 200\n",
    "MOUTH_POSITION = 150, 250\n",
    "LEFT_EYE_POSITION = 150, 180\n",
    "RIGHT_EYE_POSITION = 250, 180\n",
    "LEFT_PUPIL_POSITION = 150, 180\n",
    "RIGHT_PUPIL_POSITION = 250, 180\n",
    "LEFT_EYEBROW_POSITION = 102, 126\n",
    "RIGHT_EYEBROW_POSITION = 218, 175\n",
    "LEFT_EYEBROW_ANGLE = 32*np.pi/180\n",
    "RIGHT_EYEBROW_ANGLE = -16*np.pi/180\n",
    "\n",
    "#this function draws inclined rectangle\n",
    "def inc_rect(screen, color, x, y, length, width, theta):\n",
    "    polygon(screen, color, [(x, y), (x + round(length*np.cos(theta)), y + round(length*np.sin(theta))), \n",
    "                            (x + round(length*np.cos(theta) + width*np.sin(theta)),\n",
    "                             y + round(length*np.sin(theta) - width*np.cos(theta))),\n",
    "                            (x + round(width*np.sin(theta)), y - round(width*np.cos(theta))),\n",
    "                            (x, y)])\n",
    "\n",
    "#screen\n",
    "screen = pygame.display.set_mode((SCREEN_WIDTH, SCREEN_HEIGHT))\n",
    "screen.fill(SCREEN_COLOR)\n",
    "\n",
    "#smile\n",
    "circle(screen, SMILE_COLOR, SMILE_POSITION, SMILE_RADIUS)\n",
    "\n",
    "#mouth\n",
    "rect(screen, MOUTH_COLOR, (MOUTH_POSITION[0], MOUTH_POSITION[1], MOUTH_LENGTH, MOUTH_WIDTH))\n",
    "\n",
    "#eyes\n",
    "circle(screen, EYE_COLOR, LEFT_EYE_POSITION, LEFT_EYE_RADIUS)\n",
    "circle(screen, EYE_COLOR, RIGHT_EYE_POSITION, RIGHT_EYE_RADIUS)\n",
    "circle(screen, PUPIL_COLOR, LEFT_PUPIL_POSITION, PUPIL_RADIUS)\n",
    "circle(screen, PUPIL_COLOR, RIGHT_PUPIL_POSITION, PUPIL_RADIUS)\n",
    "\n",
    "#eyebrows\n",
    "inc_rect(screen, EYEBROW_COLOR, LEFT_EYEBROW_POSITION[0], LEFT_EYEBROW_POSITION[1], \n",
    "         EYEBROW_LENGTH, EYEBROW_WIDTH, LEFT_EYEBROW_ANGLE)\n",
    "inc_rect(screen, EYEBROW_COLOR, RIGHT_EYEBROW_POSITION[0], RIGHT_EYEBROW_POSITION[1], \n",
    "         EYEBROW_LENGTH, EYEBROW_WIDTH, RIGHT_EYEBROW_ANGLE)"
   ]
  },
  {
   "cell_type": "markdown",
   "metadata": {},
   "source": [
    "### Задание №2 (картинка 5_1)"
   ]
  },
  {
   "cell_type": "code",
   "execution_count": 22,
   "metadata": {},
   "outputs": [
    {
     "data": {
      "text/plain": [
       "<rect(518, 110, 140, 140)>"
      ]
     },
     "execution_count": 22,
     "metadata": {},
     "output_type": "execute_result"
    }
   ],
   "source": [
    "#names of the colors\n",
    "purple = (140, 78, 148)\n",
    "yellow = (255, 255, 0)\n",
    "red = (155, 30, 30)\n",
    "orange = (250, 150, 0)\n",
    "light_yellow = (240, 187, 74)\n",
    "pink = (255, 199, 199)\n",
    "\n",
    "#sizes\n",
    "SCALE = 0.5\n",
    "SCREEN_WIDTH = round(2500 * SCALE)\n",
    "SCREEN_HEIGHT = round(1667 * SCALE)\n",
    "SUN_RADIUS = round(140 * SCALE)\n",
    "\n",
    "#colors of the parts\n",
    "SUN_COLOR = yellow\n",
    "BACKGROUND_1_COLOR = light_yellow\n",
    "BACKGROUND_2_COLOR = pink\n",
    "BACKGROUND_3_COLOR = light_yellow\n",
    "BACKGROUND_4_COLOR = purple\n",
    "MOUNTAINS_1_COLOR = orange\n",
    "MOUNTAINS_2_COLOR = red\n",
    "\n",
    "#position of the parts\n",
    "SUN_POSITION = round(1175 * SCALE), round(360 * SCALE) \n",
    "BACKGROUND_2_POSITION = round(360 * SCALE)\n",
    "BACKGROUND_3_POSITION = round(715 * SCALE)\n",
    "BACKGROUND_4_POSITION = round(1100 * SCALE)\n",
    "MOUNTAINS_1_COORDINATES = [[0, 776], [0, 678], [514, 330], [608, 357], [652, 419], [960, 629],\n",
    "                           [1127, 603], [1211, 648], [1335, 529], [1440, 554], [1501, 500], [1819, 264],\n",
    "                           [1869, 305], [1982, 411], [2072, 392], [2242, 476], [2325, 430], [2500, 517], [0, 776]]\n",
    "MOUNTAINS_2_COORDINATES = [[0, 832], [64, 864], [221, 669], [433, 1066], [545, 879], [721, 974], [800, 752], [1021, 800],\n",
    "                           [1200, 932], [1433, 884], [1712, 680], [2041, 883], [2152, 750], [2254, 821], [2304, 740],\n",
    "                           [2402, 750], [2500, 590], [2500, 1074], [0, 1129]]\n",
    "#rescaling of coordinates of mountains\n",
    "for point in MOUNTAINS_1_COORDINATES:\n",
    "    point[0] = round(point[0] * SCALE)\n",
    "    point[1] = round(point[1] * SCALE)\n",
    "for point in MOUNTAINS_2_COORDINATES:\n",
    "    point[0] = round(point[0] * SCALE)\n",
    "    point[1] = round(point[1] * SCALE)\n",
    "#this function draws inclined rectangle\n",
    "\n",
    "#screen\n",
    "screen = pygame.display.set_mode((SCREEN_WIDTH, SCREEN_HEIGHT))\n",
    "\n",
    "#background\n",
    "rect(screen, BACKGROUND_1_COLOR, (0, 0, SCREEN_WIDTH, BACKGROUND_2_POSITION - 0))\n",
    "rect(screen, BACKGROUND_2_COLOR, (0, BACKGROUND_2_POSITION, SCREEN_WIDTH, BACKGROUND_3_POSITION - BACKGROUND_2_POSITION))\n",
    "rect(screen, BACKGROUND_3_COLOR, (0, BACKGROUND_3_POSITION, SCREEN_WIDTH, BACKGROUND_4_POSITION - BACKGROUND_3_POSITION))\n",
    "rect(screen, BACKGROUND_4_COLOR, (0, BACKGROUND_4_POSITION, SCREEN_WIDTH, SCREEN_HEIGHT - BACKGROUND_2_POSITION))\n",
    "\n",
    "#mountains\n",
    "polygon(screen, MOUNTAINS_1_COLOR, MOUNTAINS_1_COORDINATES)\n",
    "polygon(screen, MOUNTAINS_2_COLOR, MOUNTAINS_2_COORDINATES)\n",
    "\n",
    "#sun\n",
    "circle(screen, SUN_COLOR, SUN_POSITION, SUN_RADIUS)"
   ]
  },
  {
   "cell_type": "markdown",
   "metadata": {},
   "source": [
    "### Задание №3 (картинка 5_2)"
   ]
  },
  {
   "cell_type": "code",
   "execution_count": 4,
   "metadata": {},
   "outputs": [],
   "source": [
    "#names of the colors\n",
    "purple = (140, 78, 148)\n",
    "yellow = (255, 255, 0)\n",
    "red = (155, 30, 30)\n",
    "orange = (250, 150, 0)\n",
    "light_yellow = (240, 187, 74)\n",
    "pink = (255, 199, 199)\n",
    "dark_purple = (28, 0, 33)\n",
    "\n",
    "#sizes\n",
    "SCALE = 0.5\n",
    "SCREEN_WIDTH = round(2500 * SCALE)\n",
    "SCREEN_HEIGHT = round(1667 * SCALE)\n",
    "SUN_RADIUS = round(140 * SCALE)\n",
    "\n",
    "#colors of the parts\n",
    "SUN_COLOR = yellow\n",
    "BACKGROUND_1_COLOR = light_yellow\n",
    "BACKGROUND_2_COLOR = pink\n",
    "BACKGROUND_3_COLOR = light_yellow\n",
    "BACKGROUND_4_COLOR = purple\n",
    "MOUNTAINS_1_COLOR = orange\n",
    "MOUNTAINS_2_COLOR = red\n",
    "MOUNTAINS_3_COLOR = dark_purple\n",
    "BIRD_COLOR = dark_purple\n",
    "\n",
    "#position of the parts\n",
    "SUN_POSITION = round(1175 * SCALE), round(360 * SCALE) \n",
    "BACKGROUND_2_POSITION = round(360 * SCALE)\n",
    "BACKGROUND_3_POSITION = round(715 * SCALE)\n",
    "BACKGROUND_4_POSITION = round(1100 * SCALE)\n",
    "MOUNTAINS_1_COORDINATES = [[0, 776], [0, 678], [514, 330], [608, 357], [652, 419], [960, 629],\n",
    "                           [1127, 603], [1211, 648], [1335, 529], [1440, 554], [1501, 500], [1819, 264],\n",
    "                           [1869, 305], [1982, 411], [2072, 392], [2242, 476], [2325, 430], [2500, 517], [0, 776]]\n",
    "MOUNTAINS_2_COORDINATES = [[0, 832], [64, 864], [221, 669], [433, 1066], [545, 879], [721, 974], [800, 752], [1021, 800],\n",
    "                           [1200, 932], [1433, 884], [1712, 680], [2041, 883], [2152, 750], [2254, 821], [2304, 740],\n",
    "                           [2402, 750], [2500, 590], [2500, 1074], [0, 1129]]\n",
    "MOUNTAINS_3_COORDINATES = [[0, 857], [293, 936], [536, 1231], [796, 1574], [1171, 1638], [1584, 1412], [1695, 1460], \n",
    "                           [1865, 1511], [2094, 1388], [2371, 1074], [2500, 1000], [2500, 1667], [0, 1667]]\n",
    "BIRDS_COORDINATES_AND_SIZES = [[993, 778, 1], [959, 604, 1], [1186, 624, 1], [1184, 708, 1], [1567, 1133, 1.2],\n",
    "                               [1706, 1255, 1], [1987, 1209, 0.9], [1949, 1337, 1.4]]\n",
    "#rescaling of coordinates of mountains\n",
    "for point in MOUNTAINS_1_COORDINATES:\n",
    "    point[0] = round(point[0] * SCALE)\n",
    "    point[1] = round(point[1] * SCALE)\n",
    "for point in MOUNTAINS_2_COORDINATES:\n",
    "    point[0] = round(point[0] * SCALE)\n",
    "    point[1] = round(point[1] * SCALE)\n",
    "for point in MOUNTAINS_3_COORDINATES:\n",
    "    point[0] = round(point[0] * SCALE)\n",
    "    point[1] = round(point[1] * SCALE)\n",
    "\n",
    "#this function draws a bird\n",
    "def draw_bird(screen, color, x, y, size):\n",
    "    BIRD_COORDINATES = [[x, y], [x + round(81*size), y - round(46*size)], [x + round(29*size), y - round(39*size)], \n",
    "                        [x + round(7*size), y - round(23*size)], [x - round(48*size), y - round(44*size)],\n",
    "                        [x - round(72*size), y - round(41*size)], [x, y]]\n",
    "    for point in BIRD_COORDINATES:\n",
    "        point[0] = round(point[0] * SCALE)\n",
    "        point[1] = round(point[1] * SCALE)\n",
    "    polygon(screen, color, BIRD_COORDINATES)\n",
    "\n",
    "#screen\n",
    "screen = pygame.display.set_mode((SCREEN_WIDTH, SCREEN_HEIGHT))\n",
    "\n",
    "#background\n",
    "rect(screen, BACKGROUND_1_COLOR, (0, 0, SCREEN_WIDTH, BACKGROUND_2_POSITION - 0))\n",
    "rect(screen, BACKGROUND_2_COLOR, (0, BACKGROUND_2_POSITION, SCREEN_WIDTH, BACKGROUND_3_POSITION - BACKGROUND_2_POSITION))\n",
    "rect(screen, BACKGROUND_3_COLOR, (0, BACKGROUND_3_POSITION, SCREEN_WIDTH, BACKGROUND_4_POSITION - BACKGROUND_3_POSITION))\n",
    "rect(screen, BACKGROUND_4_COLOR, (0, BACKGROUND_4_POSITION, SCREEN_WIDTH, SCREEN_HEIGHT - BACKGROUND_2_POSITION))\n",
    "\n",
    "#mountains\n",
    "polygon(screen, MOUNTAINS_1_COLOR, MOUNTAINS_1_COORDINATES)\n",
    "polygon(screen, MOUNTAINS_2_COLOR, MOUNTAINS_2_COORDINATES)\n",
    "polygon(screen, MOUNTAINS_3_COLOR, MOUNTAINS_3_COORDINATES)\n",
    "\n",
    "#sun\n",
    "circle(screen, SUN_COLOR, SUN_POSITION, SUN_RADIUS)\n",
    "\n",
    "#birds\n",
    "for bird in BIRDS_COORDINATES_AND_SIZES:\n",
    "    draw_bird(screen, BIRD_COLOR, bird[0], bird[1], bird[2])"
   ]
  },
  {
   "cell_type": "markdown",
   "metadata": {},
   "source": [
    "## Не забывай запускать эту ячейку"
   ]
  },
  {
   "cell_type": "code",
   "execution_count": 5,
   "metadata": {},
   "outputs": [],
   "source": [
    "pygame.display.update()\n",
    "finished = False\n",
    "\n",
    "while not finished:\n",
    "    clock.tick(FPS)\n",
    "    for event in pygame.event.get():\n",
    "        if event.type == pygame.QUIT:\n",
    "            finished = True\n",
    "\n",
    "pygame.quit()"
   ]
  }
 ],
 "metadata": {
  "kernelspec": {
   "display_name": "Python 3",
   "language": "python",
   "name": "python3"
  },
  "language_info": {
   "codemirror_mode": {
    "name": "ipython",
    "version": 3
   },
   "file_extension": ".py",
   "mimetype": "text/x-python",
   "name": "python",
   "nbconvert_exporter": "python",
   "pygments_lexer": "ipython3",
   "version": "3.8.3"
  }
 },
 "nbformat": 4,
 "nbformat_minor": 4
}
